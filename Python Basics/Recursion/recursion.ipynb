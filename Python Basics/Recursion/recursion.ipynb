{
 "cells": [
  {
   "cell_type": "code",
   "execution_count": 1,
   "metadata": {},
   "outputs": [],
   "source": [
    "# Understanding Recursion"
   ]
  },
  {
   "cell_type": "code",
   "execution_count": 3,
   "metadata": {},
   "outputs": [
    {
     "name": "stdout",
     "output_type": "stream",
     "text": [
      "12\n"
     ]
    }
   ],
   "source": [
    "# Creating a multiplication function using loop\n",
    "\n",
    "def multiply(a, b):\n",
    "\n",
    "    result = 0\n",
    "\n",
    "    for i in range(0, b):\n",
    "        result = result + a\n",
    "\n",
    "    print(result)\n",
    "\n",
    "multiply(3, 4)"
   ]
  },
  {
   "cell_type": "code",
   "execution_count": 5,
   "metadata": {},
   "outputs": [
    {
     "data": {
      "text/plain": [
       "30"
      ]
     },
     "execution_count": 5,
     "metadata": {},
     "output_type": "execute_result"
    }
   ],
   "source": [
    "# Creating a multiplication function using Recursion\n",
    "\n",
    "def mul(a, b):\n",
    "\n",
    "    if b == 1:\n",
    "        return a\n",
    "    else:\n",
    "        return a + mul(a, b-1)\n",
    "\n",
    "mul(5, 6)\n"
   ]
  },
  {
   "cell_type": "code",
   "execution_count": 10,
   "metadata": {},
   "outputs": [
    {
     "data": {
      "text/plain": [
       "120"
      ]
     },
     "execution_count": 10,
     "metadata": {},
     "output_type": "execute_result"
    }
   ],
   "source": [
    "# Factorial by recursion\n",
    "\n",
    "def fact(N):\n",
    "\n",
    "    if N == 1:\n",
    "        return N\n",
    "    else:\n",
    "        return N*fact(N-1)\n",
    "\n",
    "fact(5)"
   ]
  },
  {
   "cell_type": "code",
   "execution_count": 20,
   "metadata": {},
   "outputs": [
    {
     "data": {
      "text/plain": [
       "NoneType"
      ]
     },
     "execution_count": 20,
     "metadata": {},
     "output_type": "execute_result"
    }
   ],
   "source": [
    "# Palindrome by Recursion\n",
    "\n",
    "def palin(text):\n",
    "    if len(text) <= 1:\n",
    "        return 'Palindrome'\n",
    "    else:\n",
    "        if text[0] == text[-1]:\n",
    "            palin(text[1:-1])\n",
    "        else:\n",
    "            print('Not a Palindrome.')\n",
    "\n",
    "palin('madam')\n",
    "type(palin('madam'))"
   ]
  },
  {
   "cell_type": "code",
   "execution_count": 15,
   "metadata": {},
   "outputs": [],
   "source": [
    "palin('malayalam')"
   ]
  },
  {
   "cell_type": "code",
   "execution_count": 16,
   "metadata": {},
   "outputs": [
    {
     "name": "stdout",
     "output_type": "stream",
     "text": [
      "Not a Palindrome.\n"
     ]
    }
   ],
   "source": [
    "palin('Python')"
   ]
  },
  {
   "cell_type": "code",
   "execution_count": 19,
   "metadata": {},
   "outputs": [],
   "source": [
    "palin('abba')"
   ]
  },
  {
   "cell_type": "code",
   "execution_count": 4,
   "metadata": {},
   "outputs": [
    {
     "data": {
      "text/plain": [
       "233"
      ]
     },
     "execution_count": 4,
     "metadata": {},
     "output_type": "execute_result"
    }
   ],
   "source": [
    "# The Rabbit Problem \n",
    "\n",
    "# The solution is Fibonacci series\n",
    "\n",
    "def fib(N):\n",
    "    if N == 0 or N == 1:\n",
    "        return 1\n",
    "    else:\n",
    "        return fib(N-1) + fib(N-2)\n",
    "\n",
    "fib(12)"
   ]
  },
  {
   "cell_type": "code",
   "execution_count": 5,
   "metadata": {},
   "outputs": [
    {
     "data": {
      "text/plain": [
       "75025"
      ]
     },
     "execution_count": 5,
     "metadata": {},
     "output_type": "execute_result"
    }
   ],
   "source": [
    "fib(24)"
   ]
  },
  {
   "cell_type": "code",
   "execution_count": 6,
   "metadata": {},
   "outputs": [
    {
     "data": {
      "text/plain": [
       "24157817"
      ]
     },
     "execution_count": 6,
     "metadata": {},
     "output_type": "execute_result"
    }
   ],
   "source": [
    "fib(36)"
   ]
  },
  {
   "cell_type": "code",
   "execution_count": 8,
   "metadata": {},
   "outputs": [],
   "source": [
    "# It's a very useless piece of code as it is not optimized\n",
    "# and takes forever to give results for number as low as 48\n",
    "\n",
    "# We will use Memoization to fix this issue and wrtie another\n",
    "# function "
   ]
  },
  {
   "cell_type": "code",
   "execution_count": 10,
   "metadata": {},
   "outputs": [
    {
     "name": "stdout",
     "output_type": "stream",
     "text": [
      "7778742049\n"
     ]
    }
   ],
   "source": [
    "def memo (m, d):\n",
    "\n",
    "   if m in d:\n",
    "    return d[m]\n",
    "   else:\n",
    "    d[m] = memo(m-1, d) + memo(m-2, d)\n",
    "    return d[m]\n",
    "\n",
    "d = {0:1, 1:1}\n",
    "print(memo(48 ,d))\n",
    "\n"
   ]
  },
  {
   "cell_type": "code",
   "execution_count": 11,
   "metadata": {},
   "outputs": [],
   "source": [
    "# This process of storing the values solves our problem of time \n",
    "# and gives a optimized solution\n"
   ]
  },
  {
   "cell_type": "code",
   "execution_count": 13,
   "metadata": {},
   "outputs": [
    {
     "data": {
      "text/plain": [
       "573147844013817084101"
      ]
     },
     "execution_count": 13,
     "metadata": {},
     "output_type": "execute_result"
    }
   ],
   "source": [
    "memo(100, d)"
   ]
  },
  {
   "cell_type": "code",
   "execution_count": 32,
   "metadata": {},
   "outputs": [],
   "source": [
    "def powerset(n):\n",
    "    if n == 0:\n",
    "        return L == []\n",
    "    else:\n",
    "        L == L.extend([powerset(n-1), powerset(n)])\n",
    "        return L\n",
    "\n",
    "L = [1, 2]"
   ]
  },
  {
   "cell_type": "code",
   "execution_count": 27,
   "metadata": {},
   "outputs": [
    {
     "name": "stdout",
     "output_type": "stream",
     "text": [
      "[1, 2]\n"
     ]
    }
   ],
   "source": [
    "print(L)"
   ]
  },
  {
   "cell_type": "code",
   "execution_count": 34,
   "metadata": {},
   "outputs": [
    {
     "name": "stdout",
     "output_type": "stream",
     "text": [
      "False\n"
     ]
    }
   ],
   "source": [
    "print(powerset(0))"
   ]
  },
  {
   "cell_type": "code",
   "execution_count": 35,
   "metadata": {},
   "outputs": [
    {
     "ename": "RecursionError",
     "evalue": "maximum recursion depth exceeded",
     "output_type": "error",
     "traceback": [
      "\u001b[1;31m---------------------------------------------------------------------------\u001b[0m",
      "\u001b[1;31mRecursionError\u001b[0m                            Traceback (most recent call last)",
      "Cell \u001b[1;32mIn[35], line 1\u001b[0m\n\u001b[1;32m----> 1\u001b[0m \u001b[38;5;28mprint\u001b[39m(\u001b[43mpowerset\u001b[49m\u001b[43m(\u001b[49m\u001b[38;5;241;43m1\u001b[39;49m\u001b[43m)\u001b[49m)\n",
      "Cell \u001b[1;32mIn[32], line 5\u001b[0m, in \u001b[0;36mpowerset\u001b[1;34m(n)\u001b[0m\n\u001b[0;32m      3\u001b[0m     \u001b[38;5;28;01mreturn\u001b[39;00m L \u001b[38;5;241m==\u001b[39m []\n\u001b[0;32m      4\u001b[0m \u001b[38;5;28;01melse\u001b[39;00m:\n\u001b[1;32m----> 5\u001b[0m     L \u001b[38;5;241m==\u001b[39m L\u001b[38;5;241m.\u001b[39mextend([powerset(n\u001b[38;5;241m-\u001b[39m\u001b[38;5;241m1\u001b[39m), \u001b[43mpowerset\u001b[49m\u001b[43m(\u001b[49m\u001b[43mn\u001b[49m\u001b[43m)\u001b[49m])\n\u001b[0;32m      6\u001b[0m     \u001b[38;5;28;01mreturn\u001b[39;00m L\n",
      "Cell \u001b[1;32mIn[32], line 5\u001b[0m, in \u001b[0;36mpowerset\u001b[1;34m(n)\u001b[0m\n\u001b[0;32m      3\u001b[0m     \u001b[38;5;28;01mreturn\u001b[39;00m L \u001b[38;5;241m==\u001b[39m []\n\u001b[0;32m      4\u001b[0m \u001b[38;5;28;01melse\u001b[39;00m:\n\u001b[1;32m----> 5\u001b[0m     L \u001b[38;5;241m==\u001b[39m L\u001b[38;5;241m.\u001b[39mextend([powerset(n\u001b[38;5;241m-\u001b[39m\u001b[38;5;241m1\u001b[39m), \u001b[43mpowerset\u001b[49m\u001b[43m(\u001b[49m\u001b[43mn\u001b[49m\u001b[43m)\u001b[49m])\n\u001b[0;32m      6\u001b[0m     \u001b[38;5;28;01mreturn\u001b[39;00m L\n",
      "    \u001b[1;31m[... skipping similar frames: powerset at line 5 (2974 times)]\u001b[0m\n",
      "Cell \u001b[1;32mIn[32], line 5\u001b[0m, in \u001b[0;36mpowerset\u001b[1;34m(n)\u001b[0m\n\u001b[0;32m      3\u001b[0m     \u001b[38;5;28;01mreturn\u001b[39;00m L \u001b[38;5;241m==\u001b[39m []\n\u001b[0;32m      4\u001b[0m \u001b[38;5;28;01melse\u001b[39;00m:\n\u001b[1;32m----> 5\u001b[0m     L \u001b[38;5;241m==\u001b[39m L\u001b[38;5;241m.\u001b[39mextend([\u001b[43mpowerset\u001b[49m\u001b[43m(\u001b[49m\u001b[43mn\u001b[49m\u001b[38;5;241;43m-\u001b[39;49m\u001b[38;5;241;43m1\u001b[39;49m\u001b[43m)\u001b[49m, powerset(n)])\n\u001b[0;32m      6\u001b[0m     \u001b[38;5;28;01mreturn\u001b[39;00m L\n",
      "\u001b[1;31mRecursionError\u001b[0m: maximum recursion depth exceeded"
     ]
    }
   ],
   "source": [
    "print(powerset(1))"
   ]
  },
  {
   "cell_type": "code",
   "execution_count": 36,
   "metadata": {},
   "outputs": [
    {
     "name": "stdout",
     "output_type": "stream",
     "text": [
      "[[], ['1'], ['2'], ['1', '2'], ['3'], ['1', '3'], ['2', '3'], ['1', '2', '3']]\n",
      "8\n"
     ]
    }
   ],
   "source": [
    "def powerset1(xs):\n",
    "\n",
    "    res = [[]]\n",
    "    if len(xs) <= 0:\n",
    "        return \"Please Enter a parameter\"\n",
    "        \n",
    "    if len(xs) == 1:\n",
    "        res.append([xs[0]])\n",
    "#         print(res)\n",
    "        return res\n",
    "    else:\n",
    "        z = []\n",
    "        for i in powerset1(xs[1:]):\n",
    "#             print(i,[xs[0]])\n",
    "            z.append(i)\n",
    "            z.append([xs[0]] + i) \n",
    "#             print(z)\n",
    "        return z\n",
    "    \n",
    "    \n",
    "final = powerset1('123')\n",
    "print(final)\n",
    "print(len(final))"
   ]
  },
  {
   "cell_type": "code",
   "execution_count": 37,
   "metadata": {},
   "outputs": [
    {
     "name": "stdout",
     "output_type": "stream",
     "text": [
      "[ ], [ a ], [ b ], [ a b ], [ c ], [ a c ], [ b c ], [ a b c ], "
     ]
    }
   ],
   "source": [
    "# Python recursive code to print\n",
    "# all subsets of set using ArrayList\n",
    "\n",
    "\n",
    "def get_subset(s, index):\n",
    "    all_subsets = []\n",
    "    if index < 0:\n",
    "        all_subsets.append([])\n",
    "    else:\n",
    "        all_subsets = get_subset(s, index-1)\n",
    "        item = s[index]\n",
    "        more_subsets = []\n",
    "        for subset in all_subsets:\n",
    "            new_subset = []\n",
    "            for i in subset:\n",
    "                new_subset.append(i)\n",
    "            new_subset.append(item)\n",
    "            more_subsets.append(new_subset)\n",
    "        for i in more_subsets:\n",
    "            all_subsets.append(i)\n",
    "    return all_subsets\n",
    "\n",
    "\n",
    "# Driver Code\n",
    "set = [\"a\", \"b\", \"c\"]\n",
    "index = len(set) - 1\n",
    "result = get_subset(set, index)\n",
    "\n",
    "for subset in result:\n",
    "    print(\"[\", end=\" \")\n",
    "    for item in subset:\n",
    "        print(item, end=\" \")\n",
    "    print(\"],\", end=\" \")\n"
   ]
  },
  {
   "cell_type": "code",
   "execution_count": null,
   "metadata": {},
   "outputs": [],
   "source": []
  }
 ],
 "metadata": {
  "kernelspec": {
   "display_name": "Python 3",
   "language": "python",
   "name": "python3"
  },
  "language_info": {
   "codemirror_mode": {
    "name": "ipython",
    "version": 3
   },
   "file_extension": ".py",
   "mimetype": "text/x-python",
   "name": "python",
   "nbconvert_exporter": "python",
   "pygments_lexer": "ipython3",
   "version": "3.12.5"
  }
 },
 "nbformat": 4,
 "nbformat_minor": 2
}
