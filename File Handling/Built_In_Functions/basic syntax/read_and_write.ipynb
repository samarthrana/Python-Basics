{
 "cells": [
  {
   "cell_type": "markdown",
   "metadata": {},
   "source": [
    "Opening a Text File "
   ]
  },
  {
   "cell_type": "code",
   "execution_count": 5,
   "metadata": {},
   "outputs": [],
   "source": [
    "# (Same directory) in append mode\n",
    "\n",
    "file1 = open(\"Myfile1.txt\", \"a\")\n",
    "\n",
    "#store its reference in the variable file1\n",
    "#and \"Myfile2.txt\" in D:\\Text in file2\n",
    "file2 = open(r\"D:\\Text\\Myfile2.txt\", \"w+\")"
   ]
  },
  {
   "cell_type": "markdown",
   "metadata": {},
   "source": [
    "Python Read Text File\n",
    "\n",
    "3 ways to read txt file:\n",
    "\n",
    "1. read() --> read n bytes, if no n provided, reads the entire file\n",
    "\n",
    "file.read([n])\n",
    "\n",
    "2. readline() --> reads a line of the file and returns in form of string. Does not read more than one line, even if n exceeds the length of the line\n",
    "\n",
    "file.readline([n])\n",
    "\n",
    "3. readlines() --> reads all the lines and return them as each line a string element in a list.\n",
    "\n",
    "file.readlines()"
   ]
  },
  {
   "cell_type": "code",
   "execution_count": 9,
   "metadata": {},
   "outputs": [
    {
     "name": "stdout",
     "output_type": "stream",
     "text": [
      "Output of Read function is \n",
      "Hello \n",
      "This is Delhi \n",
      "This is Paris \n",
      "This is London \n",
      "\n",
      "\n",
      "Output of Readline function is \n",
      "Hello \n",
      "\n",
      "\n",
      "Output of Read(9) function is \n",
      "Hello \n",
      "Th\n",
      "\n",
      "Output of Readline(9) function is \n",
      "Hello \n",
      "\n",
      "Output of readlines function is \n",
      "['Hello \\n', 'This is Delhi \\n', 'This is Paris \\n', 'This is London \\n']\n",
      "\n"
     ]
    }
   ],
   "source": [
    "# Example\n",
    "\n",
    "file1 = open(\"myfile.txt\", \"w\")\n",
    "L = [\"This is Delhi \\n\", \"This is Paris \\n\", \"This is London \\n\"]\n",
    "\n",
    "file1.write(\"Hello \\n\")\n",
    "file1.writelines(L)\n",
    "file1.close()\n",
    "\n",
    "file1 = open(\"myfile.txt\", \"r+\")\n",
    "\n",
    "print(\"Output of Read function is \")\n",
    "print(file1.read())\n",
    "print()\n",
    "\n",
    "# seek(n) takes the file handle to the nth byte from the beginning\n",
    "file1.seek(0)\n",
    "\n",
    "print(\"Output of Readline function is \")\n",
    "print(file1.readline())\n",
    "print()\n",
    "\n",
    "file1.seek(0)\n",
    "\n",
    "print(\"Output of Read(9) function is \")\n",
    "print(file1.read(9))\n",
    "print()\n",
    "\n",
    "file1.seek(0)\n",
    "\n",
    "print(\"Output of Readline(9) function is \")\n",
    "print(file1.readline(9))\n",
    "\n",
    "file1.seek(0)\n",
    "\n",
    "print(\"Output of readlines function is \")\n",
    "print(file1.readlines())\n",
    "print()\n",
    "\n",
    "file1.close()\n"
   ]
  },
  {
   "cell_type": "markdown",
   "metadata": {},
   "source": [
    "Write to Text File in Python\n",
    "\n",
    "2 ways:\n",
    "\n",
    "1. using write() --> inserts the string str1 in a single line in the text file.\n",
    "\n",
    "file.write(str1)\n",
    "\n",
    "2. using writelines() --> For a list of string elements, each string is inserted in the text file. Used to insert mutiple strings at a single time.\n",
    "\n",
    "file.writelines(L) for L = [\"str1\", \"str2\", \"str3\"]"
   ]
  },
  {
   "cell_type": "code",
   "execution_count": 16,
   "metadata": {},
   "outputs": [
    {
     "name": "stdout",
     "output_type": "stream",
     "text": [
      "Data is written into the file.\n"
     ]
    }
   ],
   "source": [
    "file = open(\"Employees.txt\", \"w\")\n",
    "\n",
    "for i in range(3):\n",
    "    name = input(\"Enter the name of the Employee: \")\n",
    "    file.write(name)\n",
    "    file.write(\"\\n\")\n",
    "\n",
    "file.close()\n",
    "\n",
    "print(\"Data is written into the file.\")"
   ]
  },
  {
   "cell_type": "code",
   "execution_count": 15,
   "metadata": {},
   "outputs": [
    {
     "name": "stdout",
     "output_type": "stream",
     "text": [
      "Data is written into the file\n"
     ]
    }
   ],
   "source": [
    "file1 = open(\"Employees.txt\", \"w\")\n",
    "lst = []\n",
    "for i in range(3):\n",
    "    name = input(\"Enter the name of the employee: \")\n",
    "    lst.append(name + \"\\n\")\n",
    "\n",
    "file1.writelines(lst)\n",
    "file1.close()\n",
    "print(\"Data is written into the file\")"
   ]
  },
  {
   "cell_type": "markdown",
   "metadata": {},
   "source": [
    "Appending to a file in Python"
   ]
  },
  {
   "cell_type": "code",
   "execution_count": 19,
   "metadata": {},
   "outputs": [
    {
     "name": "stdout",
     "output_type": "stream",
     "text": [
      "Output of readlines after appending: \n",
      "['This is Delhi \\n', 'This is Paris \\n', 'This is London \\n', 'Today \\n']\n",
      "\n",
      "Output of Readlines after writing: \n",
      "['Tomorrow \\n']\n",
      "\n"
     ]
    }
   ],
   "source": [
    "file1 = open(\"myfile.txt\", \"w\")\n",
    "L = [\"This is Delhi \\n\", \"This is Paris \\n\", \"This is London \\n\"]\n",
    "file1.writelines(L)\n",
    "file1.close()\n",
    "\n",
    "# appends adds at last\n",
    "\n",
    "file1 = open(\"myfile.txt\", \"a\")\n",
    "file1.write(\"Today \\n\")\n",
    "file1.close()\n",
    "\n",
    "file1 = open(\"myfile.txt\", \"r\")\n",
    "print(\"Output of readlines after appending: \")\n",
    "print(file1.readlines())\n",
    "print()\n",
    "file1.close()\n",
    "\n",
    "# write overwrites\n",
    "\n",
    "file1 = open(\"myfile.txt\", \"w\")\n",
    "file1.write(\"Tomorrow \\n\")\n",
    "file1.close()\n",
    "\n",
    "file1 = open(\"myfile.txt\", \"r\")\n",
    "print(\"Output of Readlines after writing: \")\n",
    "print(file1.readlines())\n",
    "print()\n",
    "file1.close()"
   ]
  },
  {
   "cell_type": "code",
   "execution_count": null,
   "metadata": {},
   "outputs": [],
   "source": []
  }
 ],
 "metadata": {
  "kernelspec": {
   "display_name": "Python 3",
   "language": "python",
   "name": "python3"
  },
  "language_info": {
   "codemirror_mode": {
    "name": "ipython",
    "version": 3
   },
   "file_extension": ".py",
   "mimetype": "text/x-python",
   "name": "python",
   "nbconvert_exporter": "python",
   "pygments_lexer": "ipython3",
   "version": "3.12.5"
  }
 },
 "nbformat": 4,
 "nbformat_minor": 2
}
