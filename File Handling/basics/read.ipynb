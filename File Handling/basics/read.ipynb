{
 "cells": [
  {
   "cell_type": "code",
   "execution_count": 4,
   "metadata": {},
   "outputs": [
    {
     "name": "stdout",
     "output_type": "stream",
     "text": [
      "Hello world\n",
      "\n",
      "GeeksforGeeks\n",
      "\n",
      "123 456\n",
      "\n"
     ]
    }
   ],
   "source": [
    "# a file named \"geek\", will be opened with the reading mode.\n",
    "file = open('geeks.txt', 'r')\n",
    "\n",
    "# This will print every line one by one in the file\n",
    "for each in file:\n",
    "    print (each)\n"
   ]
  },
  {
   "cell_type": "code",
   "execution_count": 5,
   "metadata": {},
   "outputs": [
    {
     "name": "stdout",
     "output_type": "stream",
     "text": [
      "Hello world\n",
      "GeeksforGeeks\n",
      "123 456\n",
      "\n"
     ]
    }
   ],
   "source": [
    "# read() mode\n",
    "\n",
    "file = open('geeks.txt', 'r')\n",
    "print(file.read())"
   ]
  },
  {
   "cell_type": "code",
   "execution_count": 6,
   "metadata": {},
   "outputs": [
    {
     "name": "stdout",
     "output_type": "stream",
     "text": [
      "Hello world\n",
      "GeeksforGeeks\n",
      "123 456\n",
      "\n"
     ]
    }
   ],
   "source": [
    "# read a file using with statement\n",
    "\n",
    "with open(\"geeks.txt\") as file:\n",
    "    data = file.read()\n",
    "\n",
    "print(data)"
   ]
  },
  {
   "cell_type": "code",
   "execution_count": 7,
   "metadata": {},
   "outputs": [
    {
     "name": "stdout",
     "output_type": "stream",
     "text": [
      "Hello\n"
     ]
    }
   ],
   "source": [
    "# reading number of characters\n",
    "\n",
    "file = open(\"geeks.txt\", 'r')\n",
    "print(file.read(5))"
   ]
  },
  {
   "cell_type": "code",
   "execution_count": null,
   "metadata": {},
   "outputs": [],
   "source": []
  }
 ],
 "metadata": {
  "kernelspec": {
   "display_name": "Python 3",
   "language": "python",
   "name": "python3"
  },
  "language_info": {
   "codemirror_mode": {
    "name": "ipython",
    "version": 3
   },
   "file_extension": ".py",
   "mimetype": "text/x-python",
   "name": "python",
   "nbconvert_exporter": "python",
   "pygments_lexer": "ipython3",
   "version": "3.12.5"
  }
 },
 "nbformat": 4,
 "nbformat_minor": 2
}
