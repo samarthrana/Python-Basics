{
 "cells": [
  {
   "cell_type": "code",
   "execution_count": 1,
   "metadata": {},
   "outputs": [
    {
     "name": "stdout",
     "output_type": "stream",
     "text": [
      "1\n",
      "2\n",
      "3\n"
     ]
    }
   ],
   "source": [
    "num = [1, 2, 3]\n",
    "\n",
    "for i in num:\n",
    "    print(i)"
   ]
  },
  {
   "cell_type": "code",
   "execution_count": 8,
   "metadata": {},
   "outputs": [
    {
     "ename": "StopIteration",
     "evalue": "",
     "output_type": "error",
     "traceback": [
      "\u001b[1;31m---------------------------------------------------------------------------\u001b[0m",
      "\u001b[1;31mStopIteration\u001b[0m                             Traceback (most recent call last)",
      "Cell \u001b[1;32mIn[8], line 10\u001b[0m\n\u001b[0;32m      8\u001b[0m \u001b[38;5;28mnext\u001b[39m(iter_num)          \u001b[38;5;66;03m# 2\u001b[39;00m\n\u001b[0;32m      9\u001b[0m \u001b[38;5;28mnext\u001b[39m(iter_num)          \u001b[38;5;66;03m# 3\u001b[39;00m\n\u001b[1;32m---> 10\u001b[0m \u001b[38;5;28;43mnext\u001b[39;49m\u001b[43m(\u001b[49m\u001b[43miter_num\u001b[49m\u001b[43m)\u001b[49m          \u001b[38;5;66;03m# Throws error: STOPITERATION\u001b[39;00m\n\u001b[0;32m     12\u001b[0m \u001b[38;5;66;03m# When python starts executing for loop, it follows two steps:\u001b[39;00m\n\u001b[0;32m     13\u001b[0m \n\u001b[0;32m     14\u001b[0m \u001b[38;5;66;03m# 1. It fetches the iter() function\u001b[39;00m\n\u001b[1;32m   (...)\u001b[0m\n\u001b[0;32m     19\u001b[0m \u001b[38;5;66;03m#     ---> next(iter_num) gives us 1 as we are on 0th item and so on until \u001b[39;00m\n\u001b[0;32m     20\u001b[0m \u001b[38;5;66;03m#     the list is traversed.\u001b[39;00m\n",
      "\u001b[1;31mStopIteration\u001b[0m: "
     ]
    }
   ],
   "source": [
    "num = [1, 2, 3]\n",
    "\n",
    "#fetch the iterator\n",
    "iter_num = iter(num)\n",
    "\n",
    "# step2 --> next()\n",
    "next(iter_num)          # 1\n",
    "next(iter_num)          # 2\n",
    "next(iter_num)          # 3\n",
    "next(iter_num)          # Throws error: STOPITERATION\n",
    "\n",
    "# When python starts executing for loop, it follows two steps:\n",
    "\n",
    "# 1. It fetches the iter() function\n",
    "\n",
    "# 2. While fetching the iter() function, it calls next() function.\n",
    "#     As every iterator has iter() and next() function, next() fn is fetched\n",
    "\n",
    "#     ---> next(iter_num) gives us 1 as we are on 0th item and so on until \n",
    "#     the list is traversed."
   ]
  },
  {
   "cell_type": "code",
   "execution_count": null,
   "metadata": {},
   "outputs": [],
   "source": []
  }
 ],
 "metadata": {
  "kernelspec": {
   "display_name": "Python 3",
   "language": "python",
   "name": "python3"
  },
  "language_info": {
   "codemirror_mode": {
    "name": "ipython",
    "version": 3
   },
   "file_extension": ".py",
   "mimetype": "text/x-python",
   "name": "python",
   "nbconvert_exporter": "python",
   "pygments_lexer": "ipython3",
   "version": "3.12.5"
  }
 },
 "nbformat": 4,
 "nbformat_minor": 2
}
