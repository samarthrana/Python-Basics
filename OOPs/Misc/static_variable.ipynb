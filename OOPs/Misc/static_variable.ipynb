{
 "cells": [
  {
   "cell_type": "code",
   "execution_count": 3,
   "metadata": {},
   "outputs": [],
   "source": [
    "# Instance variable: A variable for which the value of each object is different.\n",
    "#                     Ex: Storing PIN or Balance\n",
    "# ->Instance variable are created in side constructor.\n",
    "# Static Variable: A Variable for which the value of each object is same.\n",
    "#                 Ex: Storing IFSC code or Branch Address\n",
    "# ->Static / Class Variable are always created outside constructor.\n",
    "\n",
    "\n",
    "class Atm:\n",
    "\n",
    "    # Static/Class Variable\n",
    "    __counter = 1\n",
    "\n",
    "    def __init__(self):\n",
    "\n",
    "        self.__pin = \"\"    # __ is put before variable to make it private\n",
    "        self.__balance = 0\n",
    "\n",
    "        self.sno = Atm.__counter\n",
    "        Atm.__counter = Atm.__counter + 1\n",
    "\n",
    "    @staticmethod\n",
    "    def get_counter():\n",
    "        return Atm.__counter\n",
    "\n",
    "    @staticmethod\n",
    "    def set_counter(New):\n",
    "        if type(New) == int:\n",
    "            Atm.__coutner = New\n",
    "        else:\n",
    "            print(\"Not Allowed\")\n",
    "\n",
    "\n",
    "        # self.__menu()\n",
    "\n",
    "    def get_pin(self):         #Getter function to access hidden Obj\n",
    "        return self.__pin\n",
    "\n",
    "    def set_pin(self, new_pin): #Setter function to edit hidden Obj\n",
    "        if type(new_pin) == str:\n",
    "            self.__pin = new_pin\n",
    "            print(\"PIN changed\")\n",
    "        else:\n",
    "            print(\"Not Allowed\")\n",
    "        \n",
    "\n",
    "    def __menu(self):\n",
    "        \n",
    "        user_input = input(\"\"\"\n",
    "                    Hello, how would you like to proceed?\n",
    "                    1. Enter 1 to Create Pin\n",
    "                    2. Enter 2 to Deposit\n",
    "                    3. Enter 3 to Withdraw\n",
    "                    4. Enter 4 to Check Balance\n",
    "                    5. Enter 5 to Exit\"\"\")\n",
    "        if user_input == '1':\n",
    "            self.Create_pin()\n",
    "        elif user_input == '2':\n",
    "            self.deposit()\n",
    "        elif user_input == '3':\n",
    "            self.withdraw()\n",
    "        elif user_input == '4':\n",
    "            self.check_balance()\n",
    "        else:\n",
    "            print('Bye')\n",
    "\n",
    "    def Create_pin(self):\n",
    "        self.__pin = input(\"Enter your PIN:\")\n",
    "        print(\"Pin Set Successfully\")\n",
    "    \n",
    "    def deposit(self):\n",
    "        temp = input(\"Enter your PIN\")\n",
    "        if temp == self.__pin:\n",
    "            amount = int(input(\"Enter the amount\"))\n",
    "            self.__balance = self.__balance + amount\n",
    "            print(\"Deposit Successful\")\n",
    "        else:\n",
    "            print(\"Invalid PIN\")\n",
    "\n",
    "    def withdraw(self):\n",
    "        temp = input(\"Enter your PIN\")\n",
    "        if temp == self.__pin:\n",
    "            amount = int(input(\"Enter the amount\"))\n",
    "           \n",
    "            if amount <= self.__balance:\n",
    "                self.__balance = self.__balance - amount\n",
    "                print(\"Withdrawal Successful\")\n",
    "            else:\n",
    "                print(\"Insufficient Balance\")\n",
    "        else:\n",
    "            print(\"Invalid PIN\")\n",
    "\n",
    "    def check_balance(self):\n",
    "        temp = input(\"Enter your PIN\")\n",
    "        if temp == self.__pin:\n",
    "            print(\"Account Balance: \", self.__balance)\n",
    "        else:\n",
    "            print(\"Invalid PIN\")"
   ]
  },
  {
   "cell_type": "code",
   "execution_count": 4,
   "metadata": {},
   "outputs": [],
   "source": [
    "c1 = Atm()"
   ]
  },
  {
   "cell_type": "code",
   "execution_count": 5,
   "metadata": {},
   "outputs": [],
   "source": [
    "c2 = Atm()"
   ]
  },
  {
   "cell_type": "code",
   "execution_count": 6,
   "metadata": {},
   "outputs": [],
   "source": [
    "c3 = Atm()"
   ]
  },
  {
   "cell_type": "code",
   "execution_count": 7,
   "metadata": {},
   "outputs": [
    {
     "data": {
      "text/plain": [
       "4"
      ]
     },
     "execution_count": 7,
     "metadata": {},
     "output_type": "execute_result"
    }
   ],
   "source": [
    "Atm.get_counter()"
   ]
  },
  {
   "cell_type": "code",
   "execution_count": 8,
   "metadata": {},
   "outputs": [
    {
     "data": {
      "text/plain": [
       "4"
      ]
     },
     "execution_count": 8,
     "metadata": {},
     "output_type": "execute_result"
    }
   ],
   "source": [
    "c1.get_counter()"
   ]
  },
  {
   "cell_type": "code",
   "execution_count": 9,
   "metadata": {},
   "outputs": [
    {
     "data": {
      "text/plain": [
       "1"
      ]
     },
     "execution_count": 9,
     "metadata": {},
     "output_type": "execute_result"
    }
   ],
   "source": [
    "c1.sno"
   ]
  },
  {
   "cell_type": "code",
   "execution_count": 10,
   "metadata": {},
   "outputs": [
    {
     "data": {
      "text/plain": [
       "2"
      ]
     },
     "execution_count": 10,
     "metadata": {},
     "output_type": "execute_result"
    }
   ],
   "source": [
    "c2.sno"
   ]
  },
  {
   "cell_type": "code",
   "execution_count": 11,
   "metadata": {},
   "outputs": [
    {
     "data": {
      "text/plain": [
       "3"
      ]
     },
     "execution_count": 11,
     "metadata": {},
     "output_type": "execute_result"
    }
   ],
   "source": [
    "c3.sno"
   ]
  },
  {
   "cell_type": "code",
   "execution_count": null,
   "metadata": {},
   "outputs": [],
   "source": []
  }
 ],
 "metadata": {
  "kernelspec": {
   "display_name": "Python 3",
   "language": "python",
   "name": "python3"
  },
  "language_info": {
   "codemirror_mode": {
    "name": "ipython",
    "version": 3
   },
   "file_extension": ".py",
   "mimetype": "text/x-python",
   "name": "python",
   "nbconvert_exporter": "python",
   "pygments_lexer": "ipython3",
   "version": "3.12.5"
  }
 },
 "nbformat": 4,
 "nbformat_minor": 2
}
