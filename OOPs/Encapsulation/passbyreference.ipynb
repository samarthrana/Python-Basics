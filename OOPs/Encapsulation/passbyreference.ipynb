{
 "cells": [
  {
   "cell_type": "code",
   "execution_count": 4,
   "metadata": {},
   "outputs": [
    {
     "name": "stdout",
     "output_type": "stream",
     "text": [
      "Sam\n"
     ]
    }
   ],
   "source": [
    "class customer():\n",
    "\n",
    "    def __init__(self, name):\n",
    "        self.name = name\n",
    "\n",
    "cust = customer(\"Sam\")\n",
    "print(cust.name)"
   ]
  },
  {
   "cell_type": "code",
   "execution_count": 8,
   "metadata": {},
   "outputs": [
    {
     "name": "stdout",
     "output_type": "stream",
     "text": [
      "Hello Sam\n"
     ]
    }
   ],
   "source": [
    "# Another approach\n",
    "\n",
    "class customer():\n",
    "\n",
    "    def __init__(self, name):   # THis is a method !\n",
    "        self.name = name\n",
    "\n",
    "def greet(customer):            # This is a function !\n",
    "    print(\"Hello\", customer.name)\n",
    "\n",
    "cust = customer(\"Sam\")\n",
    "\n",
    "greet(cust)            #Calling greet() and passed obj (cust)\n"
   ]
  },
  {
   "cell_type": "code",
   "execution_count": 10,
   "metadata": {},
   "outputs": [
    {
     "name": "stdout",
     "output_type": "stream",
     "text": [
      "Hello, Ms. Rae\n"
     ]
    }
   ],
   "source": [
    "class customer():\n",
    "\n",
    "    def __init__(self, name, gender):   # THis is a method !\n",
    "        self.name = name \n",
    "        self.gender = gender\n",
    "\n",
    "def greet(customer):\n",
    "    if customer.gender == 'Male':          # This is a function !\n",
    "        print(\"Hello, Mr.\", customer.name)\n",
    "    else:\n",
    "        print(\"Hello, Ms.\", customer.name)\n",
    "\n",
    "cust = customer(\"Rae\", 'Female')\n",
    "\n",
    "greet(cust)            #Calling greet() and passed obj (cust)"
   ]
  },
  {
   "cell_type": "code",
   "execution_count": 13,
   "metadata": {},
   "outputs": [
    {
     "name": "stdout",
     "output_type": "stream",
     "text": [
      "2651988456560\n"
     ]
    }
   ],
   "source": [
    "class Customer:\n",
    "\n",
    "    def __init__(self, name):\n",
    "        self.name = name\n",
    "\n",
    "def greet(customer):\n",
    "    pass\n",
    "\n",
    "cust = Customer(\"Sam\")\n",
    "\n",
    "print(id(cust))\n",
    "\n",
    "\n"
   ]
  },
  {
   "cell_type": "code",
   "execution_count": 16,
   "metadata": {},
   "outputs": [
    {
     "name": "stdout",
     "output_type": "stream",
     "text": [
      "Luffy\n",
      "Luffy\n"
     ]
    }
   ],
   "source": [
    "class Customer():\n",
    "\n",
    "    def __init__(self, name):\n",
    "        self.name = name\n",
    "\n",
    "def Greet(customer):\n",
    "    customer.name = 'Luffy'\n",
    "    print(customer.name)\n",
    "\n",
    "\n",
    "cust = Customer(\"Zoro\")\n",
    "\n",
    "Greet(cust)\n",
    "\n",
    "print(cust.name)"
   ]
  },
  {
   "cell_type": "code",
   "execution_count": 17,
   "metadata": {},
   "outputs": [],
   "source": [
    "# what this shows is that when we pass an object of a class as an arg\n",
    "# in a function, and make changes to it, the changes are also made in\n",
    "# the initial object input.\n",
    "\n",
    "# Lets see what is the id of the old and new object"
   ]
  },
  {
   "cell_type": "code",
   "execution_count": 18,
   "metadata": {},
   "outputs": [
    {
     "name": "stdout",
     "output_type": "stream",
     "text": [
      "2651988155360\n",
      "Luffy\n",
      "2651988155360\n",
      "Luffy\n",
      "2651988155360\n"
     ]
    }
   ],
   "source": [
    "class Customer():\n",
    "\n",
    "    def __init__(self, name):\n",
    "        self.name = name\n",
    "\n",
    "def Greet(customer):\n",
    "    print(id(customer))\n",
    "    customer.name = 'Luffy'\n",
    "    print(customer.name)\n",
    "    print(id(customer))\n",
    "\n",
    "\n",
    "cust = Customer(\"Zoro\")\n",
    "\n",
    "Greet(cust)\n",
    "\n",
    "print(cust.name)\n",
    "print(id(cust))"
   ]
  },
  {
   "cell_type": "code",
   "execution_count": 19,
   "metadata": {},
   "outputs": [],
   "source": [
    "# A very important point to note here:\n",
    "\n",
    "# IDs of both objects before and after passing it through Greet \n",
    "# function are same !!\n",
    "\n",
    "# Which implies that the object is mutable \n",
    "\n",
    "# Key Note: Class ke objects are also mutable like LISTS, DICTS, SEts"
   ]
  },
  {
   "cell_type": "code",
   "execution_count": 32,
   "metadata": {},
   "outputs": [
    {
     "name": "stdout",
     "output_type": "stream",
     "text": [
      "2651997160000\n",
      "[1, 2, 3, 4]\n",
      "2651997160000\n",
      "2651997160000\n",
      "[1, 2, 3, 4, 5]\n"
     ]
    }
   ],
   "source": [
    "# Similar example using List data type.\n",
    "\n",
    "def change(L):\n",
    "    print(id(L))\n",
    "    L.append(5)\n",
    "    print(id(L))\n",
    "\n",
    "L1 = [1, 2, 3, 4]\n",
    "print(id(L1))\n",
    "print(L1)\n",
    "\n",
    "change(L1)  # Cloning\n",
    "\n",
    "print(L1)"
   ]
  },
  {
   "cell_type": "code",
   "execution_count": null,
   "metadata": {},
   "outputs": [],
   "source": [
    "\n"
   ]
  },
  {
   "cell_type": "code",
   "execution_count": 34,
   "metadata": {},
   "outputs": [
    {
     "name": "stdout",
     "output_type": "stream",
     "text": [
      "2651996304016\n",
      "(1, 2, 3, 4)\n",
      "2651996304016\n",
      "2651997241504\n",
      "(1, 2, 3, 4)\n"
     ]
    }
   ],
   "source": [
    "# IF we try this on tuple\n",
    "\n",
    "def change(L):\n",
    "    print(id(L))\n",
    "    L = L + (5, 6)\n",
    "    print(id(L))\n",
    "\n",
    "L1 = (1, 2, 3, 4)\n",
    "print(id(L1))\n",
    "print(L1)\n",
    "\n",
    "change(L1)  # Cloning\n",
    "\n",
    "print(L1)"
   ]
  },
  {
   "cell_type": "code",
   "execution_count": null,
   "metadata": {},
   "outputs": [],
   "source": [
    "# As tuple is immutable, the original object doesn't change\n",
    "# but mutable does."
   ]
  }
 ],
 "metadata": {
  "kernelspec": {
   "display_name": "Python 3",
   "language": "python",
   "name": "python3"
  },
  "language_info": {
   "codemirror_mode": {
    "name": "ipython",
    "version": 3
   },
   "file_extension": ".py",
   "mimetype": "text/x-python",
   "name": "python",
   "nbconvert_exporter": "python",
   "pygments_lexer": "ipython3",
   "version": "3.12.5"
  }
 },
 "nbformat": 4,
 "nbformat_minor": 2
}
