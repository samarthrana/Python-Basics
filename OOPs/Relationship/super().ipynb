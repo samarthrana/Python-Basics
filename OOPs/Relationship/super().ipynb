{
 "cells": [
  {
   "cell_type": "code",
   "execution_count": 3,
   "metadata": {},
   "outputs": [
    {
     "name": "stdout",
     "output_type": "stream",
     "text": [
      "Inside Phone Constructor\n",
      "Buying a Smartphone\n",
      "BUying a phone\n"
     ]
    },
    {
     "data": {
      "text/plain": [
       "30000"
      ]
     },
     "execution_count": 3,
     "metadata": {},
     "output_type": "execute_result"
    }
   ],
   "source": [
    "# By using super(), we can invoke methods of parent class\n",
    "# super() keyword doesn't work when used outside class\n",
    "# Can only access methods and constructor of parent not attributes\n",
    "\n",
    "class Phone():\n",
    "\n",
    "    def __init__(self, price, brand, camera):\n",
    "        print(\"Inside Phone Constructor\")\n",
    "        self.price = price\n",
    "        self.__brand = brand\n",
    "        self.camera = camera\n",
    "\n",
    "    def buy(self):\n",
    "        print(\"BUying a phone\")\n",
    "\n",
    "class Samrtphone(Phone):\n",
    "\n",
    "    def buy(self):\n",
    "        print(\"Buying a Smartphone\")\n",
    "        super().buy()               # By using super function:\n",
    "\n",
    "s = Samrtphone(30000, 'Samsung', '32 MP')\n",
    "\n",
    "s.buy()\n",
    "s.price\n"
   ]
  },
  {
   "cell_type": "code",
   "execution_count": 17,
   "metadata": {},
   "outputs": [
    {
     "name": "stdout",
     "output_type": "stream",
     "text": [
      "Inside Phone Constructor\n",
      "Inside smartphone constructor\n",
      "android\n"
     ]
    }
   ],
   "source": [
    "class Phone():\n",
    "\n",
    "    def __init__(self, price, brand, camera):\n",
    "        print(\"Inside Phone Constructor\")\n",
    "        self.price = price\n",
    "        self.brand = brand\n",
    "        self.camera = camera\n",
    "\n",
    "class Smartphone(Phone):\n",
    "\n",
    "    def __init__(self, price, brand, camera, os, ram):\n",
    "        super().__init__(price, brand, camera)\n",
    "        self.os = os\n",
    "        self.ram = ram\n",
    "        print(\"Inside smartphone constructor\")\n",
    "\n",
    "s = Smartphone(30000, 'Samsung', 32, \"android\", 8)\n",
    "\n",
    "print(s.os)"
   ]
  },
  {
   "cell_type": "code",
   "execution_count": 13,
   "metadata": {},
   "outputs": [
    {
     "name": "stdout",
     "output_type": "stream",
     "text": [
      "30000\n"
     ]
    }
   ],
   "source": [
    "print(s.price)"
   ]
  },
  {
   "cell_type": "code",
   "execution_count": 18,
   "metadata": {},
   "outputs": [
    {
     "data": {
      "text/plain": [
       "'Samsung'"
      ]
     },
     "execution_count": 18,
     "metadata": {},
     "output_type": "execute_result"
    }
   ],
   "source": [
    "s.brand\n"
   ]
  },
  {
   "cell_type": "code",
   "execution_count": 19,
   "metadata": {},
   "outputs": [
    {
     "name": "stdout",
     "output_type": "stream",
     "text": [
      "100\n",
      "200\n"
     ]
    }
   ],
   "source": [
    "# Example1 \n",
    "\n",
    "class Parent():\n",
    "\n",
    "    def __init__(self, num):\n",
    "        self.__num = num\n",
    "\n",
    "    def get_num(self):\n",
    "        return self.__num\n",
    "\n",
    "class Child(Parent):\n",
    "\n",
    "    def __init__(self, num, val):\n",
    "        super().__init__(num)       #Calling super() should be your\n",
    "                                    #first statement in a method. \n",
    "        self.__val = val\n",
    "\n",
    "    def get_val(self):\n",
    "        return self.__val\n",
    "\n",
    "son = Child(100, 200)\n",
    "print(son.get_num())\n",
    "print(son.get_val())"
   ]
  },
  {
   "cell_type": "code",
   "execution_count": null,
   "metadata": {},
   "outputs": [],
   "source": []
  },
  {
   "cell_type": "code",
   "execution_count": null,
   "metadata": {},
   "outputs": [],
   "source": []
  }
 ],
 "metadata": {
  "kernelspec": {
   "display_name": "Python 3",
   "language": "python",
   "name": "python3"
  },
  "language_info": {
   "codemirror_mode": {
    "name": "ipython",
    "version": 3
   },
   "file_extension": ".py",
   "mimetype": "text/x-python",
   "name": "python",
   "nbconvert_exporter": "python",
   "pygments_lexer": "ipython3",
   "version": "3.12.5"
  }
 },
 "nbformat": 4,
 "nbformat_minor": 2
}
