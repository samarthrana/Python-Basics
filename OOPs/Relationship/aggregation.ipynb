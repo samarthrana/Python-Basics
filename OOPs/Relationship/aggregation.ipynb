{
 "cells": [
  {
   "cell_type": "code",
   "execution_count": 1,
   "metadata": {},
   "outputs": [],
   "source": [
    "# Classes ke beech me do tarah ke relationship hote hain:\n",
    "\n",
    "# 1. Aggregation      (Has-a-relationship)\n",
    "# -> Customer has a Address\n",
    "\n",
    "\n",
    "# 2. Inheritance      (Is-a-relationship)\n",
    "# -> Car is a Vehicle "
   ]
  },
  {
   "cell_type": "code",
   "execution_count": 32,
   "metadata": {},
   "outputs": [
    {
     "name": "stdout",
     "output_type": "stream",
     "text": [
      "243005\n",
      "243005\n",
      "122011\n"
     ]
    }
   ],
   "source": [
    "class Customer():\n",
    "\n",
    "    def __init__(self, name, gender, address):\n",
    "        self.name = name\n",
    "        self.gender = gender\n",
    "        self.address = address\n",
    "\n",
    "    def edit_profile(self, new_name, new_city, new_state, new_pincode):\n",
    "        self.name = new_name\n",
    "        self.address.change_address(new_city, new_state, new_pincode)\n",
    "\n",
    "class Address():\n",
    "\n",
    "    def __init__(self, city, state, pincode):\n",
    "        self.city = city\n",
    "        self.state = state\n",
    "        self.pincode = pincode\n",
    "\n",
    "    def change_address(self, new_city, new_state, new_pincode):\n",
    "        self.city = new_city\n",
    "        self.state = new_state\n",
    "        self.pincode = new_pincode\n",
    "    \n",
    "\n",
    "add = Address(\"Bareilly\", \"UP\", 243005)\n",
    "cust = Customer(\"Sam\", \"Male\", add)\n",
    "\n",
    "print(add.pincode)\n",
    "print(cust.address.pincode)\n",
    "\n",
    "cust.edit_profile(\"Som\", \"Gurgaon\", \"Haryana\", 122011)\n",
    "\n",
    "print(cust.address.pincode)"
   ]
  },
  {
   "cell_type": "code",
   "execution_count": null,
   "metadata": {},
   "outputs": [],
   "source": []
  }
 ],
 "metadata": {
  "kernelspec": {
   "display_name": "Python 3",
   "language": "python",
   "name": "python3"
  },
  "language_info": {
   "codemirror_mode": {
    "name": "ipython",
    "version": 3
   },
   "file_extension": ".py",
   "mimetype": "text/x-python",
   "name": "python",
   "nbconvert_exporter": "python",
   "pygments_lexer": "ipython3",
   "version": "3.12.5"
  }
 },
 "nbformat": 4,
 "nbformat_minor": 2
}
