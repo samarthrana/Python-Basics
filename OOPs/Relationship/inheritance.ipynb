{
 "cells": [
  {
   "cell_type": "code",
   "execution_count": 2,
   "metadata": {},
   "outputs": [],
   "source": [
    "# Inheritance: A Real World Concept\n",
    "\n",
    "# Real world concepts in programs to solve real world problems"
   ]
  },
  {
   "cell_type": "code",
   "execution_count": 5,
   "metadata": {},
   "outputs": [
    {
     "name": "stdout",
     "output_type": "stream",
     "text": [
      "Enroll\n",
      "Review\n",
      "Login\n",
      "Register\n"
     ]
    }
   ],
   "source": [
    "class User():\n",
    "\n",
    "    def login(self):\n",
    "        print(\"Login\")\n",
    "\n",
    "    def register(self):\n",
    "        print(\"Register\")\n",
    "\n",
    "class Student(User):  # This indicated to python that Student class\n",
    "                                # is a subclass to User class \n",
    "    def enroll(self):\n",
    "        print(\"Enroll\")\n",
    "\n",
    "    def review(self):\n",
    "        print(\"Review\")\n",
    "\n",
    "stu1 = Student()\n",
    "\n",
    "stu1.enroll()           #from class Student\n",
    "stu1.review()\n",
    "\n",
    "stu1.login()            #from class user\n",
    "stu1.register()"
   ]
  },
  {
   "cell_type": "code",
   "execution_count": 9,
   "metadata": {},
   "outputs": [
    {
     "ename": "AttributeError",
     "evalue": "'User' object has no attribute 'enroll'",
     "output_type": "error",
     "traceback": [
      "\u001b[1;31m---------------------------------------------------------------------------\u001b[0m",
      "\u001b[1;31mAttributeError\u001b[0m                            Traceback (most recent call last)",
      "Cell \u001b[1;32mIn[9], line 5\u001b[0m\n\u001b[0;32m      1\u001b[0m \u001b[38;5;66;03m# REverse is not true\u001b[39;00m\n\u001b[0;32m      3\u001b[0m U \u001b[38;5;241m=\u001b[39m User()\n\u001b[1;32m----> 5\u001b[0m \u001b[43mU\u001b[49m\u001b[38;5;241;43m.\u001b[39;49m\u001b[43menroll\u001b[49m()     \u001b[38;5;66;03m#User can not access ennroll from student class\u001b[39;00m\n",
      "\u001b[1;31mAttributeError\u001b[0m: 'User' object has no attribute 'enroll'"
     ]
    }
   ],
   "source": [
    " # REverse is not true\n",
    "\n",
    " U = User()\n",
    "\n",
    " U.enroll()     #User can not access ennroll from student class"
   ]
  },
  {
   "cell_type": "code",
   "execution_count": 14,
   "metadata": {},
   "outputs": [],
   "source": [
    "# Example: Inheriting Contructor\n",
    "\n",
    "class Phone():\n",
    "\n",
    "    def __init__(self, price, brand, camera):\n",
    "        self.price = price\n",
    "        self.brand = brand\n",
    "        self.camera = camera\n",
    "\n",
    "class Samrtphone(Phone):\n",
    "    pass\n",
    "\n",
    "A55 = Samrtphone(30000, 'Samsung', '32 MP')\n",
    "\n",
    "# Agar child class me constructor nahi hai or hum value pass krte hain\n",
    "# to parent class ka constructor call hojaega or value usme pass hogi"
   ]
  },
  {
   "cell_type": "code",
   "execution_count": 12,
   "metadata": {},
   "outputs": [
    {
     "name": "stdout",
     "output_type": "stream",
     "text": [
      "30000\n"
     ]
    }
   ],
   "source": [
    "print(A55.price)"
   ]
  },
  {
   "cell_type": "code",
   "execution_count": 16,
   "metadata": {},
   "outputs": [],
   "source": [
    "# Example 2: PRIVATE CLASS (__brand)\n",
    "\n",
    "class Phone():\n",
    "\n",
    "    def __init__(self, price, brand, camera):\n",
    "        self.price = price\n",
    "        self.__brand = brand\n",
    "        self.camera = camera\n",
    "\n",
    "class Samrtphone(Phone):\n",
    "    pass\n",
    "\n",
    "A55 = Samrtphone(30000, 'Samsung', '32 MP')\n",
    "\n"
   ]
  },
  {
   "cell_type": "code",
   "execution_count": 18,
   "metadata": {},
   "outputs": [
    {
     "ename": "AttributeError",
     "evalue": "'Samrtphone' object has no attribute 'brand'",
     "output_type": "error",
     "traceback": [
      "\u001b[1;31m---------------------------------------------------------------------------\u001b[0m",
      "\u001b[1;31mAttributeError\u001b[0m                            Traceback (most recent call last)",
      "Cell \u001b[1;32mIn[18], line 1\u001b[0m\n\u001b[1;32m----> 1\u001b[0m \u001b[38;5;28mprint\u001b[39m(\u001b[43mA55\u001b[49m\u001b[38;5;241;43m.\u001b[39;49m\u001b[43mbrand\u001b[49m)        \u001b[38;5;66;03m# Smartphone class cant inherit brand\u001b[39;00m\n",
      "\u001b[1;31mAttributeError\u001b[0m: 'Samrtphone' object has no attribute 'brand'"
     ]
    }
   ],
   "source": [
    "print(A55.brand)        # Smartphone class cant inherit brand"
   ]
  },
  {
   "cell_type": "code",
   "execution_count": 19,
   "metadata": {},
   "outputs": [
    {
     "name": "stdout",
     "output_type": "stream",
     "text": [
      "Buying a Smartphone\n"
     ]
    }
   ],
   "source": [
    "# Example3: Method Overriding:\n",
    "#             -> When same method is present in both parent class \n",
    "#             and child class, and the method is called by object\n",
    "#             of child class then always the method from child \n",
    "#             class is executed.\n",
    "\n",
    "class Phone():\n",
    "\n",
    "    def __init__(self, price, brand, camera):\n",
    "        self.price = price\n",
    "        self.__brand = brand\n",
    "        self.camera = camera\n",
    "\n",
    "    def buy(self):\n",
    "        print(\"BUying a phone\")\n",
    "\n",
    "class Samrtphone(Phone):\n",
    "\n",
    "    def buy(self):\n",
    "        print(\"Buying a Smartphone\")\n",
    "\n",
    "A55 = Samrtphone(30000, 'Samsung', '32 MP')\n",
    "\n",
    "A55.buy()\n",
    "\n"
   ]
  },
  {
   "cell_type": "code",
   "execution_count": null,
   "metadata": {},
   "outputs": [],
   "source": []
  }
 ],
 "metadata": {
  "kernelspec": {
   "display_name": "Python 3",
   "language": "python",
   "name": "python3"
  },
  "language_info": {
   "codemirror_mode": {
    "name": "ipython",
    "version": 3
   },
   "file_extension": ".py",
   "mimetype": "text/x-python",
   "name": "python",
   "nbconvert_exporter": "python",
   "pygments_lexer": "ipython3",
   "version": "3.12.5"
  }
 },
 "nbformat": 4,
 "nbformat_minor": 2
}
